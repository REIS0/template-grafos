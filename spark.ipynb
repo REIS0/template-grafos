{
 "cells": [
  {
   "cell_type": "code",
   "execution_count": 2,
   "metadata": {
    "colab": {},
    "colab_type": "code",
    "id": "W2DLYBUxB_Cc"
   },
   "outputs": [],
   "source": [
    "from pyspark import SparkConf\n",
    "from pyspark.context import SparkContext\n",
    "from pyspark.sql.session import SparkSession\n",
    "from graphframes import *\n",
    "from pixiedust.display import *"
   ]
  },
  {
   "cell_type": "code",
   "execution_count": 3,
   "metadata": {
    "colab": {},
    "colab_type": "code",
    "id": "_Wn15JtTCtQQ"
   },
   "outputs": [],
   "source": [
    "# spark session and context setup\n",
    "conf = SparkConf().setAppName('appName').setMaster('local')\n",
    "sc = SparkContext.getOrCreate(conf)\n",
    "spark = SparkSession(sc)"
   ]
  },
  {
   "cell_type": "code",
   "execution_count": null,
   "metadata": {
    "colab": {
     "base_uri": "https://localhost:8080/",
     "height": 890
    },
    "colab_type": "code",
    "id": "L7pJhyVTC1Vc",
    "outputId": "064da0d8-52e4-4d04-dfdb-c44ffc6a390c",
    "pixiedust": {
     "displayParams": {
      "handlerId": "graphTree"
     }
    },
    "scrolled": true
   },
   "outputs": [
    {
     "data": {
      "text/plain": [
       "GraphFrame(v:[id: string, latitude: string ... 2 more fields], e:[src: string, dst: string ... 2 more fields])"
      ]
     },
     "metadata": {},
     "output_type": "display_data"
    }
   ],
   "source": [
    "# graphframes basic example\n",
    "nodes = spark.read.csv('cidades.csv', header=True)\n",
    "edges = spark.read.csv('distancia.csv',header=True)\n",
    "gf = GraphFrame(nodes,edges)\n",
    "display(gf)"
   ]
  },
  {
   "cell_type": "markdown",
   "metadata": {},
   "source": [
    "# BFS Search"
   ]
  },
  {
   "cell_type": "code",
   "execution_count": 6,
   "metadata": {
    "pixiedust": {
     "displayParams": {
      "handlerId": "tableView"
     }
    }
   },
   "outputs": [
    {
     "name": "stdout",
     "output_type": "stream",
     "text": [
      "+--------------------+--------------------+--------------------+\n",
      "|                from|                  e0|                  to|\n",
      "+--------------------+--------------------+--------------------+\n",
      "|[Xaxim, -26.9601,...|[Xaxim, Chapeco, ...|[Chapeco, -27.100...|\n",
      "|[Xaxim, -26.9601,...|[Xaxim, Lages, ro...|[Lages, -27.8155,...|\n",
      "+--------------------+--------------------+--------------------+\n",
      "\n"
     ]
    }
   ],
   "source": [
    "caminhos_1 = gf.bfs(\"id = 'Xaxim'\",\"populacao > 100.000\")\n",
    "caminhos_1.show()"
   ]
  },
  {
   "cell_type": "code",
   "execution_count": 7,
   "metadata": {},
   "outputs": [
    {
     "name": "stdout",
     "output_type": "stream",
     "text": [
      "+--------------------+--------------------+--------------------+--------------------+--------------------+\n",
      "|                from|                  e0|                  v1|                  e1|                  to|\n",
      "+--------------------+--------------------+--------------------+--------------------+--------------------+\n",
      "|[Itajai, -26.9106...|[Itajai, Floriano...|[Florianopolis, -...|[Florianopolis, C...|[Curitibanos, -27...|\n",
      "|[Itajai, -26.9106...|[Itajai, Floriano...|[Florianopolis, -...|[Florianopolis, C...|[Curitibanos, -27...|\n",
      "+--------------------+--------------------+--------------------+--------------------+--------------------+\n",
      "\n"
     ]
    }
   ],
   "source": [
    "caminhos_2 = gf.bfs(\"id = 'Itajai'\",\"id = 'Curitibanos'\")\n",
    "caminhos_2.show()"
   ]
  },
  {
   "cell_type": "code",
   "execution_count": 8,
   "metadata": {},
   "outputs": [
    {
     "name": "stdout",
     "output_type": "stream",
     "text": [
      "+--------------------+--------------------+--------------------+--------------------+--------------------+\n",
      "|                from|                  e0|                  v1|                  e1|                  to|\n",
      "+--------------------+--------------------+--------------------+--------------------+--------------------+\n",
      "|[Joinville, -26.3...|[Joinville, Balne...|[Balneario Cambor...|[Balneario Cambor...|[Chapeco, -27.100...|\n",
      "|[Joinville, -26.3...|[Joinville, Balne...|[Balneario Cambor...|[Balneario Cambor...|[Chapeco, -27.100...|\n",
      "+--------------------+--------------------+--------------------+--------------------+--------------------+\n",
      "\n"
     ]
    }
   ],
   "source": [
    "caminhos_3 = gf.bfs(\"id = 'Joinville'\",\"id = 'Chapeco'\")\n",
    "caminhos_3.show()"
   ]
  },
  {
   "cell_type": "code",
   "execution_count": 9,
   "metadata": {},
   "outputs": [
    {
     "name": "stdout",
     "output_type": "stream",
     "text": [
      "+--------------------+--------------------+--------------------+\n",
      "|                from|                  e0|                  to|\n",
      "+--------------------+--------------------+--------------------+\n",
      "|[Florianopolis, -...|[Florianopolis, C...|[Curitibanos, -27...|\n",
      "|[Florianopolis, -...|[Florianopolis, C...|[Curitibanos, -27...|\n",
      "+--------------------+--------------------+--------------------+\n",
      "\n"
     ]
    }
   ],
   "source": [
    "caminhos_4 = gf.bfs(\"id = 'Florianopolis'\",\"populacao < 50.000\")\n",
    "caminhos_4.show()"
   ]
  },
  {
   "cell_type": "code",
   "execution_count": 10,
   "metadata": {},
   "outputs": [
    {
     "name": "stdout",
     "output_type": "stream",
     "text": [
      "+--------------------+--------------------+--------------------+--------------------+--------------------+\n",
      "|                from|                  e0|                  v1|                  e1|                  to|\n",
      "+--------------------+--------------------+--------------------+--------------------+--------------------+\n",
      "|[Florianopolis, -...|[Florianopolis, J...|[Joinville, -26.3...|[Joinville, Balne...|[Balneario Cambor...|\n",
      "|[Florianopolis, -...|[Florianopolis, J...|[Joinville, -26.3...|[Joinville, Balne...|[Balneario Cambor...|\n",
      "+--------------------+--------------------+--------------------+--------------------+--------------------+\n",
      "\n"
     ]
    }
   ],
   "source": [
    "caminhos_5 = gf.bfs(\"id = 'Florianopolis'\",\"id = 'Balneario Camboriu'\")\n",
    "caminhos_5.show()"
   ]
  },
  {
   "cell_type": "markdown",
   "metadata": {},
   "source": [
    "# Find"
   ]
  },
  {
   "cell_type": "code",
   "execution_count": 18,
   "metadata": {},
   "outputs": [
    {
     "name": "stdout",
     "output_type": "stream",
     "text": [
      "+--------------------+--------------------+--------------------+--------------------+--------------------+\n",
      "|                   a|                  ab|                   b|                  bc|                   c|\n",
      "+--------------------+--------------------+--------------------+--------------------+--------------------+\n",
      "|[Xaxim, -26.9601,...|[Xaxim, Curitiban...|[Curitibanos, -27...|[Curitibanos, Cha...|[Chapeco, -27.100...|\n",
      "|[Abelardo Luz, -2...|[Abelardo Luz, Xa...|[Xaxim, -26.9601,...|[Xaxim, Lages, ro...|[Lages, -27.8155,...|\n",
      "|[Abelardo Luz, -2...|[Abelardo Luz, Xa...|[Xaxim, -26.9601,...|[Xaxim, Chapeco, ...|[Chapeco, -27.100...|\n",
      "|[Abelardo Luz, -2...|[Abelardo Luz, Xa...|[Xaxim, -26.9601,...|[Xaxim, Curitiban...|[Curitibanos, -27...|\n",
      "|[Florianopolis, -...|[Florianopolis, L...|[Lages, -27.8155,...|[Lages, Curitiban...|[Curitibanos, -27...|\n",
      "|[Xaxim, -26.9601,...|[Xaxim, Chapeco, ...|[Chapeco, -27.100...|[Chapeco, Joinvil...|[Joinville, -26.3...|\n",
      "|[Xaxim, -26.9601,...|[Xaxim, Chapeco, ...|[Chapeco, -27.100...|[Chapeco, Lages, ...|[Lages, -27.8155,...|\n",
      "|[Joinville, -26.3...|[Joinville, Balne...|[Balneario Cambor...|[Balneario Cambor...|[Chapeco, -27.100...|\n",
      "|[Joinville, -26.3...|[Joinville, Balne...|[Balneario Cambor...|[Balneario Cambor...|[Itajai, -26.9106...|\n",
      "|[Chapeco, -27.100...|[Chapeco, Lages, ...|[Lages, -27.8155,...|[Lages, Curitiban...|[Curitibanos, -27...|\n",
      "|[Lages, -27.8155,...|[Lages, Curitiban...|[Curitibanos, -27...|[Curitibanos, Cha...|[Chapeco, -27.100...|\n",
      "|[Florianopolis, -...|[Florianopolis, C...|[Curitibanos, -27...|[Curitibanos, Cha...|[Chapeco, -27.100...|\n",
      "|[Curitibanos, -27...|[Curitibanos, Cha...|[Chapeco, -27.100...|[Chapeco, Joinvil...|[Joinville, -26.3...|\n",
      "|[Curitibanos, -27...|[Curitibanos, Cha...|[Chapeco, -27.100...|[Chapeco, Lages, ...|[Lages, -27.8155,...|\n",
      "|[Itajai, -26.9106...|[Itajai, Joinvill...|[Joinville, -26.3...|[Joinville, Lages...|[Lages, -27.8155,...|\n",
      "|[Itajai, -26.9106...|[Itajai, Joinvill...|[Joinville, -26.3...|[Joinville, Balne...|[Balneario Cambor...|\n",
      "|[Itajai, -26.9106...|[Itajai, Joinvill...|[Joinville, -26.3...|[Joinville, Balne...|[Balneario Cambor...|\n",
      "|[Joinville, -26.3...|[Joinville, Balne...|[Balneario Cambor...|[Balneario Cambor...|[Chapeco, -27.100...|\n",
      "|[Joinville, -26.3...|[Joinville, Balne...|[Balneario Cambor...|[Balneario Cambor...|[Itajai, -26.9106...|\n",
      "|[Balneario Cambor...|[Balneario Cambor...|[Itajai, -26.9106...|[Itajai, Chapeco,...|[Chapeco, -27.100...|\n",
      "+--------------------+--------------------+--------------------+--------------------+--------------------+\n",
      "only showing top 20 rows\n",
      "\n"
     ]
    }
   ],
   "source": [
    "motifs = gf.find('(a)-[ab]->(b); (b)-[bc]->(c)')\n",
    "motifs.show()"
   ]
  },
  {
   "cell_type": "code",
   "execution_count": 22,
   "metadata": {},
   "outputs": [
    {
     "name": "stdout",
     "output_type": "stream",
     "text": [
      "+--------------------+--------------------+--------------------+--------------------+--------------------+--------------------+--------------------+\n",
      "|                   a|                  ab|                   b|                  ac|                   c|                  ad|                   d|\n",
      "+--------------------+--------------------+--------------------+--------------------+--------------------+--------------------+--------------------+\n",
      "|[Xaxim, -26.9601,...|[Xaxim, Curitiban...|[Curitibanos, -27...|[Xaxim, Lages, ro...|[Lages, -27.8155,...|[Xaxim, Lages, ro...|[Lages, -27.8155,...|\n",
      "|[Xaxim, -26.9601,...|[Xaxim, Curitiban...|[Curitibanos, -27...|[Xaxim, Lages, ro...|[Lages, -27.8155,...|[Xaxim, Chapeco, ...|[Chapeco, -27.100...|\n",
      "|[Xaxim, -26.9601,...|[Xaxim, Curitiban...|[Curitibanos, -27...|[Xaxim, Lages, ro...|[Lages, -27.8155,...|[Xaxim, Curitiban...|[Curitibanos, -27...|\n",
      "|[Xaxim, -26.9601,...|[Xaxim, Curitiban...|[Curitibanos, -27...|[Xaxim, Chapeco, ...|[Chapeco, -27.100...|[Xaxim, Lages, ro...|[Lages, -27.8155,...|\n",
      "|[Xaxim, -26.9601,...|[Xaxim, Curitiban...|[Curitibanos, -27...|[Xaxim, Chapeco, ...|[Chapeco, -27.100...|[Xaxim, Chapeco, ...|[Chapeco, -27.100...|\n",
      "|[Xaxim, -26.9601,...|[Xaxim, Curitiban...|[Curitibanos, -27...|[Xaxim, Chapeco, ...|[Chapeco, -27.100...|[Xaxim, Curitiban...|[Curitibanos, -27...|\n",
      "|[Xaxim, -26.9601,...|[Xaxim, Curitiban...|[Curitibanos, -27...|[Xaxim, Curitiban...|[Curitibanos, -27...|[Xaxim, Lages, ro...|[Lages, -27.8155,...|\n",
      "|[Xaxim, -26.9601,...|[Xaxim, Curitiban...|[Curitibanos, -27...|[Xaxim, Curitiban...|[Curitibanos, -27...|[Xaxim, Chapeco, ...|[Chapeco, -27.100...|\n",
      "|[Xaxim, -26.9601,...|[Xaxim, Curitiban...|[Curitibanos, -27...|[Xaxim, Curitiban...|[Curitibanos, -27...|[Xaxim, Curitiban...|[Curitibanos, -27...|\n",
      "|[Abelardo Luz, -2...|[Abelardo Luz, Xa...|[Xaxim, -26.9601,...|[Abelardo Luz, Cu...|[Curitibanos, -27...|[Abelardo Luz, Cu...|[Curitibanos, -27...|\n",
      "|[Abelardo Luz, -2...|[Abelardo Luz, Xa...|[Xaxim, -26.9601,...|[Abelardo Luz, Cu...|[Curitibanos, -27...|[Abelardo Luz, Jo...|[Joinville, -26.3...|\n",
      "|[Abelardo Luz, -2...|[Abelardo Luz, Xa...|[Xaxim, -26.9601,...|[Abelardo Luz, Cu...|[Curitibanos, -27...|[Abelardo Luz, Ch...|[Chapeco, -27.100...|\n",
      "|[Abelardo Luz, -2...|[Abelardo Luz, Xa...|[Xaxim, -26.9601,...|[Abelardo Luz, Cu...|[Curitibanos, -27...|[Abelardo Luz, Xa...|[Xaxim, -26.9601,...|\n",
      "|[Abelardo Luz, -2...|[Abelardo Luz, Xa...|[Xaxim, -26.9601,...|[Abelardo Luz, Jo...|[Joinville, -26.3...|[Abelardo Luz, Cu...|[Curitibanos, -27...|\n",
      "|[Abelardo Luz, -2...|[Abelardo Luz, Xa...|[Xaxim, -26.9601,...|[Abelardo Luz, Jo...|[Joinville, -26.3...|[Abelardo Luz, Jo...|[Joinville, -26.3...|\n",
      "|[Abelardo Luz, -2...|[Abelardo Luz, Xa...|[Xaxim, -26.9601,...|[Abelardo Luz, Jo...|[Joinville, -26.3...|[Abelardo Luz, Ch...|[Chapeco, -27.100...|\n",
      "|[Abelardo Luz, -2...|[Abelardo Luz, Xa...|[Xaxim, -26.9601,...|[Abelardo Luz, Jo...|[Joinville, -26.3...|[Abelardo Luz, Xa...|[Xaxim, -26.9601,...|\n",
      "|[Abelardo Luz, -2...|[Abelardo Luz, Xa...|[Xaxim, -26.9601,...|[Abelardo Luz, Ch...|[Chapeco, -27.100...|[Abelardo Luz, Cu...|[Curitibanos, -27...|\n",
      "|[Abelardo Luz, -2...|[Abelardo Luz, Xa...|[Xaxim, -26.9601,...|[Abelardo Luz, Ch...|[Chapeco, -27.100...|[Abelardo Luz, Jo...|[Joinville, -26.3...|\n",
      "|[Abelardo Luz, -2...|[Abelardo Luz, Xa...|[Xaxim, -26.9601,...|[Abelardo Luz, Ch...|[Chapeco, -27.100...|[Abelardo Luz, Ch...|[Chapeco, -27.100...|\n",
      "+--------------------+--------------------+--------------------+--------------------+--------------------+--------------------+--------------------+\n",
      "only showing top 20 rows\n",
      "\n"
     ]
    }
   ],
   "source": [
    "motifs_2 = gf.find('(a)-[ab]->(b); (a)-[ac]->(c); (a)-[ad]->(d)')\n",
    "motifs_2.show()"
   ]
  },
  {
   "cell_type": "markdown",
   "metadata": {},
   "source": [
    "# Filter Vertices"
   ]
  },
  {
   "cell_type": "code",
   "execution_count": null,
   "metadata": {
    "pixiedust": {
     "displayParams": {}
    }
   },
   "outputs": [
    {
     "data": {
      "text/plain": [
       "GraphFrame(v:[id: string, latitude: string ... 2 more fields], e:[src: string, dst: string ... 2 more fields])"
      ]
     },
     "metadata": {},
     "output_type": "display_data"
    }
   ],
   "source": [
    "g1 = gf.filterVertices('populacao > 60.000')\n",
    "display(g1)"
   ]
  },
  {
   "cell_type": "code",
   "execution_count": null,
   "metadata": {
    "pixiedust": {
     "displayParams": {}
    }
   },
   "outputs": [
    {
     "data": {
      "text/plain": [
       "GraphFrame(v:[id: string, latitude: string ... 2 more fields], e:[src: string, dst: string ... 2 more fields])"
      ]
     },
     "metadata": {},
     "output_type": "display_data"
    }
   ],
   "source": [
    "g2 = gf.filterVertices('longitude <= -50.000')\n",
    "display(g2)"
   ]
  },
  {
   "cell_type": "markdown",
   "metadata": {},
   "source": [
    "# Busca em Profundidade"
   ]
  },
  {
   "cell_type": "code",
   "execution_count": null,
   "metadata": {},
   "outputs": [],
   "source": []
  }
 ],
 "metadata": {
  "colab": {
   "authorship_tag": "ABX9TyMcXOQDSf4gWbtjtBcA4v51",
   "name": "spark.ipynb",
   "provenance": []
  },
  "kernelspec": {
   "display_name": "Python 3",
   "language": "python",
   "name": "python3"
  },
  "language_info": {
   "codemirror_mode": {
    "name": "ipython",
    "version": 3
   },
   "file_extension": ".py",
   "mimetype": "text/x-python",
   "name": "python",
   "nbconvert_exporter": "python",
   "pygments_lexer": "ipython3",
   "version": "3.7.6"
  }
 },
 "nbformat": 4,
 "nbformat_minor": 1
}
